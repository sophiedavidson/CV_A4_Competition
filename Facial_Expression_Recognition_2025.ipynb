{
 "cells": [
  {
   "cell_type": "markdown",
   "metadata": {
    "id": "PyDkfc31TTAD"
   },
   "source": [
    "# **Facial Expression Recognition Competition (30%)**\n",
    "For this competition, we will use the a facial classification dataset. The data consists of 48x48 pixel grayscale images of faces. The faces have been automatically registered so that the face is more or less centred and occupies about the same amount of space in each image.\n",
    "\n",
    "The task is to categorize each face based on the emotion shown in the facial expression into one of seven categories (0: Angry, 1: Disgust, 2: Fear, 3: Happy, 4: Sad, 5: Surprise, 6: Neutral). The training set consists of 28,709 examples and the public test set consists of 3,589 examples.\n",
    "\n",
    "We provide baseline code that includes the following features:\n",
    "\n",
    "*   Loding and Analysing the FER-2013 dataset using torchvision.\n",
    "*   Defining a simple convolutional neural network.\n",
    "*   How to use existing loss function for the model learning.\n",
    "*   Train the network on the training data.\n",
    "*   Test the trained network on the testing data.\n",
    "*   Generate prediction for the random test image(s).\n",
    "\n",
    "The following changes could be considered:\n",
    "-------\n",
    "1. Change of advanced training parameters: Learning Rate, Optimizer, Batch-size, Number of Max Epochs, and Drop-out.\n",
    "2. Use of a new loss function.\n",
    "3. Data augmentation\n",
    "4. Architectural Changes: Batch Normalization, Residual layers, Attention Block, and other varients.\n",
    "\n",
    "Marking Rules:\n",
    "-------\n",
    "We will mark the competition based on the final test accuracy on testing images and your report.\n",
    "\n",
    "Final mark (out of 50) = acc_mark + efficiency mark + report mark\n",
    "###Acc_mark 10:\n",
    "\n",
    "We will rank all the submission results based on their test accuracy. Zero improvement over the baseline yields 0 marks. Maximum improvement over the baseline will yield 10 marks. There will be a sliding scale applied in between.\n",
    "\n",
    "###Efficiency mark 10:\n",
    "\n",
    "Efficiency considers not only the accuracy, but the computational cost of running the model (flops: https://en.wikipedia.org/wiki/FLOPS). Efficiency for our purposes is defined to be the ratio of accuracy (in %) to Gflops. Please report the computational cost for your final model and include the efficiency calculation in your report. Maximum improvement over the baseline will yield 10 marks. Zero improvement over the baseline yields zero marks, with a sliding scale in between.\n",
    "\n",
    "###Report mark 30:\n",
    "Your report should comprise:\n",
    "1. An introduction showing your understanding of the task and of the baseline model: [10 marks]\n",
    "\n",
    "2. A description of how you have modified aspects of the system to improve performance. [10 marks]\n",
    "\n",
    "A recommended way to present a summary of this is via an \"ablation study\" table, eg:\n",
    "\n",
    "|Method1|Method2|Method3|Accuracy|\n",
    "|---|---|---|---|\n",
    "|N|N|N|60%|\n",
    "|Y|N|N|65%|\n",
    "|Y|Y|N|77%|\n",
    "|Y|Y|Y|82%|\n",
    "\n",
    "3. Explanation of the methods for reducing the computational cost and/or improve the trade-off between accuracy and cost: [5 marks]\n",
    "\n",
    "4. Limitations/Conclusions: [5 marks]\n"
   ]
  },
  {
   "cell_type": "code",
   "execution_count": 1,
   "metadata": {
    "executionInfo": {
     "elapsed": 19,
     "status": "ok",
     "timestamp": 1747829191220,
     "user": {
      "displayName": "Jianqiao Zheng",
      "userId": "15895953406238580676"
     },
     "user_tz": -570
    },
    "id": "_zFmch0IO4S_"
   },
   "outputs": [],
   "source": [
    "##################################################################################################################################\n",
    "### Subject: Computer Vision\n",
    "### Year: 2025\n",
    "### Student Name: Sophie Davidson, Austen Lindsay\n",
    "### Student ID: a1825787, a1821684\n",
    "### Comptetion Name: Facial Expression Recognition/Classification\n",
    "### Final Results:\n",
    "### ACC:         GFLOPs:\n",
    "##################################################################################################################################"
   ]
  },
  {
   "cell_type": "code",
   "execution_count": 2,
   "metadata": {
    "executionInfo": {
     "elapsed": 21692,
     "status": "ok",
     "timestamp": 1747829212913,
     "user": {
      "displayName": "Jianqiao Zheng",
      "userId": "15895953406238580676"
     },
     "user_tz": -570
    },
    "id": "Kx1KHLh6TOFY"
   },
   "outputs": [],
   "source": [
    "# Importing libraries.\n",
    "\n",
    "import torch\n",
    "import torchvision\n",
    "import tarfile\n",
    "import torch.nn as nn\n",
    "import numpy as np\n",
    "import pandas as pd\n",
    "import matplotlib.pyplot as plt\n",
    "\n",
    "# To avoid non-essential warnings\n",
    "import warnings\n",
    "warnings.filterwarnings('ignore')\n",
    "\n",
    "%matplotlib inline\n",
    "from tqdm import tqdm\n",
    "import torchvision.transforms as T\n",
    "from torchvision.datasets import ImageFolder\n",
    "from torchvision.transforms import ToTensor\n",
    "from torchvision.utils import make_grid\n",
    "from torch.utils.data import Dataset, DataLoader"
   ]
  },
  {
   "cell_type": "code",
   "execution_count": 3,
   "metadata": {},
   "outputs": [],
   "source": [
    "# Set colab = True if you are using Google Colab, else set False. \n",
    "colab = False"
   ]
  },
  {
   "cell_type": "code",
   "execution_count": 4,
   "metadata": {
    "colab": {
     "base_uri": "https://localhost:8080/"
    },
    "executionInfo": {
     "elapsed": 54993,
     "status": "ok",
     "timestamp": 1747829267908,
     "user": {
      "displayName": "Jianqiao Zheng",
      "userId": "15895953406238580676"
     },
     "user_tz": -570
    },
    "id": "da5uVjJKThYk",
    "outputId": "5a799b99-8593-4e6b-de00-bdcaa9ab69da"
   },
   "outputs": [],
   "source": [
    "# Mounting G-Drive to get your dataset.\n",
    "# To access Google Colab GPU; Go To: Edit >>> Network Settings >>> Hardware Accelarator: Select GPU.\n",
    "# Reference: https://towardsdatascience.com/google-colab-import-and-export-datasets-eccf801e2971\n",
    "if colab:\n",
    "    from google.colab import drive\n",
    "    drive.mount('/content/drive')\n",
    "\n",
    "    # Dataset path. Ensure that the file path correspond to the path you have here. It is expected that you unzip the data folders before running the notebook.\n",
    "    data_directory ='/content/drive/MyDrive/Datasets/fer2013/fer2013.csv'\n",
    "else:\n",
    "    data_directory = \"Data/fer2013.csv\""
   ]
  },
  {
   "cell_type": "code",
   "execution_count": 5,
   "metadata": {
    "colab": {
     "base_uri": "https://localhost:8080/",
     "height": 175
    },
    "executionInfo": {
     "elapsed": 8196,
     "status": "ok",
     "timestamp": 1747829276101,
     "user": {
      "displayName": "Jianqiao Zheng",
      "userId": "15895953406238580676"
     },
     "user_tz": -570
    },
    "id": "Q1842ueQTxnp",
    "outputId": "6586d8a5-93ae-4436-c909-7c23af7a6131"
   },
   "outputs": [
    {
     "data": {
      "text/html": [
       "<div>\n",
       "<style scoped>\n",
       "    .dataframe tbody tr th:only-of-type {\n",
       "        vertical-align: middle;\n",
       "    }\n",
       "\n",
       "    .dataframe tbody tr th {\n",
       "        vertical-align: top;\n",
       "    }\n",
       "\n",
       "    .dataframe thead th {\n",
       "        text-align: right;\n",
       "    }\n",
       "</style>\n",
       "<table border=\"1\" class=\"dataframe\">\n",
       "  <thead>\n",
       "    <tr style=\"text-align: right;\">\n",
       "      <th></th>\n",
       "      <th>emotion</th>\n",
       "      <th>pixels</th>\n",
       "      <th>Usage</th>\n",
       "    </tr>\n",
       "  </thead>\n",
       "  <tbody>\n",
       "    <tr>\n",
       "      <th>0</th>\n",
       "      <td>0</td>\n",
       "      <td>70 80 82 72 58 58 60 63 54 58 60 48 89 115 121...</td>\n",
       "      <td>Training</td>\n",
       "    </tr>\n",
       "    <tr>\n",
       "      <th>1</th>\n",
       "      <td>0</td>\n",
       "      <td>151 150 147 155 148 133 111 140 170 174 182 15...</td>\n",
       "      <td>Training</td>\n",
       "    </tr>\n",
       "    <tr>\n",
       "      <th>2</th>\n",
       "      <td>2</td>\n",
       "      <td>231 212 156 164 174 138 161 173 182 200 106 38...</td>\n",
       "      <td>Training</td>\n",
       "    </tr>\n",
       "    <tr>\n",
       "      <th>3</th>\n",
       "      <td>4</td>\n",
       "      <td>24 32 36 30 32 23 19 20 30 41 21 22 32 34 21 1...</td>\n",
       "      <td>Training</td>\n",
       "    </tr>\n",
       "  </tbody>\n",
       "</table>\n",
       "</div>"
      ],
      "text/plain": [
       "   emotion                                             pixels     Usage\n",
       "0        0  70 80 82 72 58 58 60 63 54 58 60 48 89 115 121...  Training\n",
       "1        0  151 150 147 155 148 133 111 140 170 174 182 15...  Training\n",
       "2        2  231 212 156 164 174 138 161 173 182 200 106 38...  Training\n",
       "3        4  24 32 36 30 32 23 19 20 30 41 21 22 32 34 21 1...  Training"
      ]
     },
     "execution_count": 5,
     "metadata": {},
     "output_type": "execute_result"
    }
   ],
   "source": [
    "# Reading the dataset file using Pandas read_csv function and print the first\n",
    "# 5 samples.\n",
    "#\n",
    "# Reference: https://pandas.pydata.org/docs/reference/api/pandas.read_csv.html\n",
    "data_df = pd.read_csv(data_directory)\n",
    "data_df.head(4)"
   ]
  },
  {
   "cell_type": "code",
   "execution_count": 6,
   "metadata": {
    "colab": {
     "base_uri": "https://localhost:8080/"
    },
    "executionInfo": {
     "elapsed": 7,
     "status": "ok",
     "timestamp": 1747829276107,
     "user": {
      "displayName": "Jianqiao Zheng",
      "userId": "15895953406238580676"
     },
     "user_tz": -570
    },
    "id": "sUsJYHt0T6yS",
    "outputId": "7543ff0a-82c7-472c-ef35-4941e6706b59"
   },
   "outputs": [
    {
     "data": {
      "text/plain": [
       "{0: 'Angry',\n",
       " 1: 'Disgust',\n",
       " 2: 'Fear',\n",
       " 3: 'Happy',\n",
       " 4: 'Sad',\n",
       " 5: 'Surprise',\n",
       " 6: 'Neutral'}"
      ]
     },
     "execution_count": 6,
     "metadata": {},
     "output_type": "execute_result"
    }
   ],
   "source": [
    "# Mapping of the Facial Expression Labels.\n",
    "Labels = {\n",
    "    0:'Angry',\n",
    "    1:'Disgust',\n",
    "    2:'Fear',\n",
    "    3:'Happy',\n",
    "    4:'Sad',\n",
    "    5:'Surprise',\n",
    "    6:'Neutral'\n",
    "}\n",
    "Labels"
   ]
  },
  {
   "cell_type": "code",
   "execution_count": 7,
   "metadata": {
    "colab": {
     "base_uri": "https://localhost:8080/"
    },
    "executionInfo": {
     "elapsed": 11,
     "status": "ok",
     "timestamp": 1747829276119,
     "user": {
      "displayName": "Jianqiao Zheng",
      "userId": "15895953406238580676"
     },
     "user_tz": -570
    },
    "id": "L-7qJKDkT9Yr",
    "outputId": "b1bc4b80-61c2-441a-a6a1-840ab190f418"
   },
   "outputs": [
    {
     "name": "stdout",
     "output_type": "stream",
     "text": [
      "   emotion                                             pixels     Usage\n",
      "0        0  70 80 82 72 58 58 60 63 54 58 60 48 89 115 121...  Training\n",
      "1        0  151 150 147 155 148 133 111 140 170 174 182 15...  Training\n",
      "2        2  231 212 156 164 174 138 161 173 182 200 106 38...  Training\n",
      "3        4  24 32 36 30 32 23 19 20 30 41 21 22 32 34 21 1...  Training\n",
      "4        6  4 0 0 0 0 0 0 0 0 0 0 0 3 15 23 28 48 50 58 84...  Training\n",
      "       emotion                                             pixels       Usage\n",
      "28709        0  254 254 254 254 254 249 255 160 2 58 53 70 77 ...  PublicTest\n",
      "28710        1  156 184 198 202 204 207 210 212 213 214 215 21...  PublicTest\n",
      "28711        4  69 118 61 60 96 121 103 87 103 88 70 90 115 12...  PublicTest\n",
      "28712        6  205 203 236 157 83 158 120 116 94 86 155 180 2...  PublicTest\n",
      "28713        3  87 79 74 66 74 96 77 80 80 84 83 89 102 91 84 ...  PublicTest\n",
      "...        ...                                                ...         ...\n",
      "32292        3  0 0 0 0 0 0 0 1 0 0 0 1 1 1 1 3 4 21 40 53 65 ...  PublicTest\n",
      "32293        4  178 176 172 173 173 174 176 173 166 166 206 22...  PublicTest\n",
      "32294        3  25 34 42 44 42 47 57 59 59 58 54 51 50 56 63 6...  PublicTest\n",
      "32295        4  255 255 255 255 255 255 255 255 255 255 255 25...  PublicTest\n",
      "32296        4  33 25 31 36 36 42 69 103 132 163 175 183 187 1...  PublicTest\n",
      "\n",
      "[3588 rows x 3 columns]\n"
     ]
    }
   ],
   "source": [
    "# Categorizing the dataset to three categories.\n",
    "# Training: To train the model.\n",
    "# PrivateTest: To test the train model; commonly known as Validation.\n",
    "# PublicTest: To test the final model on Test set to check how your model perfomed. Do not use this data as your validation data.\n",
    "train_df = data_df[data_df['Usage']=='Training']\n",
    "valid_df = data_df[data_df['Usage']=='PublicTest']\n",
    "test_df = data_df[data_df['Usage']=='PrivateTest']\n",
    "print(train_df.head())\n",
    "print(valid_df.head(-1))"
   ]
  },
  {
   "cell_type": "code",
   "execution_count": 8,
   "metadata": {
    "colab": {
     "base_uri": "https://localhost:8080/"
    },
    "executionInfo": {
     "elapsed": 4,
     "status": "ok",
     "timestamp": 1747829276122,
     "user": {
      "displayName": "Jianqiao Zheng",
      "userId": "15895953406238580676"
     },
     "user_tz": -570
    },
    "id": "8QjeGOPqT_Ts",
    "outputId": "f35704f2-c386-42e5-d0b2-83c841405043"
   },
   "outputs": [
    {
     "name": "stdout",
     "output_type": "stream",
     "text": [
      "   emotion                                             pixels        Usage\n",
      "0        0  170 118 101 88 88 75 78 82 66 74 68 59 63 64 6...  PrivateTest\n",
      "1        5  7 5 8 6 7 3 2 6 5 4 4 5 7 5 5 5 6 7 7 7 10 10 ...  PrivateTest\n",
      "2        6  232 240 241 239 237 235 246 117 24 24 22 13 12...  PrivateTest\n",
      "3        4  200 197 149 139 156 89 111 58 62 95 113 117 11...  PrivateTest\n",
      "4        2  40 28 33 56 45 33 31 78 152 194 200 186 196 20...  PrivateTest\n",
      "   -----   -------    -------    --------     -----    -------\n",
      "   emotion                                             pixels       Usage\n",
      "0        0  254 254 254 254 254 249 255 160 2 58 53 70 77 ...  PublicTest\n",
      "1        1  156 184 198 202 204 207 210 212 213 214 215 21...  PublicTest\n",
      "2        4  69 118 61 60 96 121 103 87 103 88 70 90 115 12...  PublicTest\n",
      "3        6  205 203 236 157 83 158 120 116 94 86 155 180 2...  PublicTest\n",
      "4        3  87 79 74 66 74 96 77 80 80 84 83 89 102 91 84 ...  PublicTest\n"
     ]
    }
   ],
   "source": [
    "# Test-check to see wether usage labels have been allocated to the dataset/not.\n",
    "valid_df = valid_df.reset_index(drop=True)\n",
    "test_df = test_df.reset_index(drop=True)\n",
    "print(test_df.head())\n",
    "print('   -----   -------    -------    --------     -----    -------')\n",
    "print(valid_df.head())"
   ]
  },
  {
   "cell_type": "code",
   "execution_count": 9,
   "metadata": {
    "executionInfo": {
     "elapsed": 0,
     "status": "ok",
     "timestamp": 1747829276123,
     "user": {
      "displayName": "Jianqiao Zheng",
      "userId": "15895953406238580676"
     },
     "user_tz": -570
    },
    "id": "r-xYa-jlUBIi"
   },
   "outputs": [],
   "source": [
    "# Preview of the training sample and associated labels.\n",
    "def show_example(df, num):\n",
    "    print('expression: ' ,df.iloc[num] )\n",
    "    image = np.array([[int(i) for i in x.split()] for x in df.loc[num, ['pixels']]])\n",
    "    print(image.shape)\n",
    "    image = image.reshape(48,48)\n",
    "    plt.imshow(image, interpolation='nearest', cmap='gray')\n",
    "    plt.show()"
   ]
  },
  {
   "cell_type": "code",
   "execution_count": 10,
   "metadata": {
    "colab": {
     "base_uri": "https://localhost:8080/",
     "height": 518
    },
    "executionInfo": {
     "elapsed": 140,
     "status": "ok",
     "timestamp": 1747829276264,
     "user": {
      "displayName": "Jianqiao Zheng",
      "userId": "15895953406238580676"
     },
     "user_tz": -570
    },
    "id": "AZPA0K3XYaql",
    "outputId": "7ecc1fa8-609a-44fa-aca9-b8501473e71f"
   },
   "outputs": [
    {
     "name": "stdout",
     "output_type": "stream",
     "text": [
      "expression:  emotion                                                    0\n",
      "pixels     179 175 176 170 149 136 129 118 105 91 87 81 7...\n",
      "Usage                                               Training\n",
      "Name: 107, dtype: object\n",
      "(1, 2304)\n"
     ]
    },
    {
     "data": {
      "image/png": "[encoded data removed]",
      "text/plain": [
       "<Figure size 640x480 with 1 Axes>"
      ]
     },
     "metadata": {},
     "output_type": "display_data"
    }
   ],
   "source": [
    "show_example(train_df, 107)"
   ]
  },
  {
   "cell_type": "code",
   "execution_count": 11,
   "metadata": {
    "executionInfo": {
     "elapsed": 0,
     "status": "ok",
     "timestamp": 1747829276265,
     "user": {
      "displayName": "Jianqiao Zheng",
      "userId": "15895953406238580676"
     },
     "user_tz": -570
    },
    "id": "ShizdbgsUdTI"
   },
   "outputs": [],
   "source": [
    "# Normalization of the train and validation data.\n",
    "class expressions(Dataset):\n",
    "    def __init__(self, df, transforms=None):\n",
    "        self.df = df\n",
    "        self.transforms = transforms\n",
    "\n",
    "    def __len__(self):\n",
    "        return len(self.df)\n",
    "\n",
    "    def __getitem__(self, index):\n",
    "        row = self.df.loc[index]\n",
    "        image, label = np.array([x.split() for x in self.df.loc[index, ['pixels']]]), row['emotion']\n",
    "        #image = image.reshape(1,48,48)\n",
    "        image = np.asarray(image).astype(np.uint8).reshape(48,48,1)\n",
    "        #image = np.reshape(image,(1,48,48))\n",
    "\n",
    "\n",
    "        if self.transforms:\n",
    "            image = self.transforms(image)\n",
    "\n",
    "        return image.clone().detach(), label"
   ]
  },
  {
   "cell_type": "code",
   "execution_count": 12,
   "metadata": {
    "executionInfo": {
     "elapsed": 1,
     "status": "ok",
     "timestamp": 1747829276267,
     "user": {
      "displayName": "Jianqiao Zheng",
      "userId": "15895953406238580676"
     },
     "user_tz": -570
    },
    "id": "8_bY6dp9UgIA"
   },
   "outputs": [],
   "source": [
    "#import albumentations as A\n",
    "stats = ([0.5],[0.5])"
   ]
  },
  {
   "cell_type": "code",
   "execution_count": 13,
   "metadata": {
    "executionInfo": {
     "elapsed": 25,
     "status": "ok",
     "timestamp": 1747829276292,
     "user": {
      "displayName": "Jianqiao Zheng",
      "userId": "15895953406238580676"
     },
     "user_tz": -570
    },
    "id": "tY-VDCynUicG"
   },
   "outputs": [],
   "source": [
    "train_tsfm = T.Compose([\n",
    "    T.ToPILImage(),\n",
    "    T.Grayscale(num_output_channels=1),\n",
    "    T.ToTensor(),\n",
    "    T.Normalize(*stats,inplace=True),\n",
    "])\n",
    "valid_tsfm = T.Compose([\n",
    "    T.ToPILImage(),\n",
    "    T.Grayscale(num_output_channels=1),\n",
    "    T.ToTensor(),\n",
    "    T.Normalize(*stats,inplace=True)\n",
    "])"
   ]
  },
  {
   "cell_type": "code",
   "execution_count": 14,
   "metadata": {
    "executionInfo": {
     "elapsed": 1,
     "status": "ok",
     "timestamp": 1747829276294,
     "user": {
      "displayName": "Jianqiao Zheng",
      "userId": "15895953406238580676"
     },
     "user_tz": -570
    },
    "id": "b1POsgNqUkM0"
   },
   "outputs": [],
   "source": [
    "train_ds = expressions(train_df, train_tsfm)\n",
    "valid_ds = expressions(valid_df, valid_tsfm)\n",
    "test_ds = expressions(test_df, valid_tsfm)"
   ]
  },
  {
   "cell_type": "code",
   "execution_count": null,
   "metadata": {
    "colab": {
     "base_uri": "https://localhost:8080/",
     "height": 516
    },
    "executionInfo": {
     "elapsed": 4184,
     "status": "ok",
     "timestamp": 1747829280512,
     "user": {
      "displayName": "Jianqiao Zheng",
      "userId": "15895953406238580676"
     },
     "user_tz": -570
    },
    "id": "FIPuknSBUnh8",
    "outputId": "d3fbd5f5-6730-4182-896c-09c077a3f300"
   },
   "outputs": [],
   "source": [
    "batch_size = 400\n",
    "train_dl = DataLoader(train_ds, batch_size, shuffle=True,\n",
    "                      num_workers=2, pin_memory=True)\n",
    "valid_dl = DataLoader(valid_ds, batch_size*2,\n",
    "                    num_workers=2, pin_memory=True)\n",
    "test_dl = DataLoader(test_ds, batch_size*2,\n",
    "                    num_workers=2, pin_memory=True)\n",
    "def show_batch(dl):\n",
    "    for images, labels in dl:\n",
    "        fig, ax = plt.subplots(figsize=(12, 6))\n",
    "        ax.set_xticks([]); ax.set_yticks([])\n",
    "        ax.imshow(make_grid(images, nrow=20).permute(1, 2, 0))\n",
    "        break\n",
    "\n",
    "show_batch(train_dl)"
   ]
  },
  {
   "cell_type": "code",
   "execution_count": null,
   "metadata": {
    "executionInfo": {
     "elapsed": 1,
     "status": "ok",
     "timestamp": 1747829280514,
     "user": {
      "displayName": "Jianqiao Zheng",
      "userId": "15895953406238580676"
     },
     "user_tz": -570
    },
    "id": "g2zV2cuDUxFl"
   },
   "outputs": [],
   "source": [
    "# Evaluation metric - Accuracy in this case.\n",
    "\n",
    "import torch.nn.functional as F\n",
    "input_size = 48*48\n",
    "output_size = len(Labels)\n",
    "\n",
    "def accuracy(output, labels):\n",
    "    predictions, preds = torch.max(output, dim=1)\n",
    "    return torch.tensor(torch.sum(preds==labels).item()/len(preds))"
   ]
  },
  {
   "cell_type": "code",
   "execution_count": null,
   "metadata": {
    "executionInfo": {
     "elapsed": 1,
     "status": "ok",
     "timestamp": 1747829280515,
     "user": {
      "displayName": "Jianqiao Zheng",
      "userId": "15895953406238580676"
     },
     "user_tz": -570
    },
    "id": "Qvl3olxrU2W5"
   },
   "outputs": [],
   "source": [
    "# Expression model class for training and validation purpose.\n",
    "\n",
    "class expression_model(nn.Module):\n",
    "\n",
    "    def training_step(self, batch):\n",
    "        images, labels = batch\n",
    "        out = self(images)\n",
    "        loss = F.cross_entropy(out, labels)\n",
    "        return loss\n",
    "\n",
    "    def validation_step(self, batch):\n",
    "        images, labels = batch\n",
    "        out = self(images)\n",
    "        loss = F.cross_entropy(out, labels)\n",
    "        acc = accuracy(out, labels)\n",
    "        return {'val_loss': loss.detach(), 'val_acc': acc}\n",
    "\n",
    "    def validation_epoch_end(self, outputs):\n",
    "        batch_losses = [x['val_loss'] for x in outputs]\n",
    "        epoch_loss = torch.stack(batch_losses).mean()\n",
    "        batch_acc = [x['val_acc'] for x in outputs]\n",
    "        epoch_acc = torch.stack(batch_acc).mean()\n",
    "        return {'val_loss': epoch_loss.item(), 'val_acc': epoch_acc.item()}\n",
    "\n",
    "    def epoch_end(self, epoch, result):\n",
    "        print(\"Epoch[{}], val_loss: {:.4f}, val_acc: {:.4f}\".format(epoch, result['val_loss'], result['val_acc']))"
   ]
  },
  {
   "cell_type": "code",
   "execution_count": null,
   "metadata": {
    "colab": {
     "base_uri": "https://localhost:8080/"
    },
    "executionInfo": {
     "elapsed": 4,
     "status": "ok",
     "timestamp": 1747829280519,
     "user": {
      "displayName": "Jianqiao Zheng",
      "userId": "15895953406238580676"
     },
     "user_tz": -570
    },
    "id": "9dWl9SByU-wR",
    "outputId": "549b7df5-4c57-4acb-9757-24a107458db7"
   },
   "outputs": [
    {
     "name": "stdout",
     "output_type": "stream",
     "text": [
      "You are training on: cuda.\n"
     ]
    }
   ],
   "source": [
    "# To check wether Google Colab GPU has been assigned/not.\n",
    "torch.cuda.is_available()\n",
    "def get_default_device():\n",
    "    \"\"\"Pick GPU if available, else CPU\"\"\"\n",
    "    if torch.cuda.is_available():\n",
    "        return torch.device('cuda')\n",
    "    else:\n",
    "        return torch.device('cpu')\n",
    "device = get_default_device()\n",
    "print(f'You are training on: {device}.')"
   ]
  },
  {
   "cell_type": "code",
   "execution_count": null,
   "metadata": {
    "executionInfo": {
     "elapsed": 1,
     "status": "ok",
     "timestamp": 1747829280520,
     "user": {
      "displayName": "Jianqiao Zheng",
      "userId": "15895953406238580676"
     },
     "user_tz": -570
    },
    "id": "XBiFaKAKVEo0"
   },
   "outputs": [],
   "source": [
    "def to_device(data, device):\n",
    "    \"\"\"Move tensor(s) to chosen device\"\"\"\n",
    "    if isinstance(data, (list,tuple)):\n",
    "        return [to_device(x, device) for x in data]\n",
    "    return data.to(device, non_blocking=True)\n",
    "\n",
    "class DeviceDataLoader():\n",
    "    \"\"\"Wrap a dataloader to move data to a device\"\"\"\n",
    "    def __init__(self, dl, device):\n",
    "        self.dl = dl\n",
    "        self.device = device\n",
    "\n",
    "    def __iter__(self):\n",
    "        \"\"\"Yield a batch of data after moving it to device\"\"\"\n",
    "        for b in self.dl:\n",
    "            yield to_device(b, self.device)\n",
    "\n",
    "    def __len__(self):\n",
    "        \"\"\"Number of batches\"\"\"\n",
    "        return len(self.dl)"
   ]
  },
  {
   "cell_type": "code",
   "execution_count": null,
   "metadata": {
    "executionInfo": {
     "elapsed": 1,
     "status": "ok",
     "timestamp": 1747829280521,
     "user": {
      "displayName": "Jianqiao Zheng",
      "userId": "15895953406238580676"
     },
     "user_tz": -570
    },
    "id": "mPBWSiPkeyKh"
   },
   "outputs": [],
   "source": [
    "train_dl = DeviceDataLoader(train_dl, device)\n",
    "valid_dl = DeviceDataLoader(valid_dl, device)\n",
    "test_dl = DeviceDataLoader(test_dl, device)"
   ]
  },
  {
   "cell_type": "code",
   "execution_count": null,
   "metadata": {
    "colab": {
     "base_uri": "https://localhost:8080/"
    },
    "executionInfo": {
     "elapsed": 3,
     "status": "ok",
     "timestamp": 1747829280524,
     "user": {
      "displayName": "Jianqiao Zheng",
      "userId": "15895953406238580676"
     },
     "user_tz": -570
    },
    "id": "_WYYWRLKe1QF",
    "outputId": "83f2be35-9462-4e29-cea1-d92f6d655517"
   },
   "outputs": [
    {
     "data": {
      "text/plain": [
       "Sequential(\n",
       "  (0): Conv2d(1, 8, kernel_size=(3, 3), stride=(1, 1), padding=(1, 1))\n",
       "  (1): MaxPool2d(kernel_size=2, stride=2, padding=0, dilation=1, ceil_mode=False)\n",
       ")"
      ]
     },
     "execution_count": 20,
     "metadata": {},
     "output_type": "execute_result"
    }
   ],
   "source": [
    "# Basic model - 1 layer\n",
    "simple_model = nn.Sequential(\n",
    "    nn.Conv2d(1, 8, kernel_size=3, stride=1, padding=1),\n",
    "    nn.MaxPool2d(2, 2)\n",
    ")\n",
    "simple_model.to(device)"
   ]
  },
  {
   "cell_type": "code",
   "execution_count": null,
   "metadata": {
    "colab": {
     "base_uri": "https://localhost:8080/"
    },
    "executionInfo": {
     "elapsed": 3332,
     "status": "ok",
     "timestamp": 1747829283855,
     "user": {
      "displayName": "Jianqiao Zheng",
      "userId": "15895953406238580676"
     },
     "user_tz": -570
    },
    "id": "IJouDbTIe3vg",
    "outputId": "4e8b754d-d5dc-4897-a3bb-a493d01f4ea2"
   },
   "outputs": [
    {
     "name": "stdout",
     "output_type": "stream",
     "text": [
      "images.shape: torch.Size([400, 1, 48, 48])\n",
      "out.shape: torch.Size([400, 8, 24, 24])\n"
     ]
    }
   ],
   "source": [
    "for images, labels in train_dl:\n",
    "    print('images.shape:', images.shape)\n",
    "    out = simple_model(images)\n",
    "    print('out.shape:', out.shape)\n",
    "    break"
   ]
  },
  {
   "cell_type": "code",
   "execution_count": null,
   "metadata": {
    "executionInfo": {
     "elapsed": 2,
     "status": "ok",
     "timestamp": 1747829283876,
     "user": {
      "displayName": "Jianqiao Zheng",
      "userId": "15895953406238580676"
     },
     "user_tz": -570
    },
    "id": "B5dmt4X6VO-l"
   },
   "outputs": [],
   "source": [
    "from torchvision import models\n",
    "\n",
    "# Model - Transfer Learning\n",
    "class expression(expression_model):\n",
    "    def __init__(self,classes):\n",
    "        super().__init__()\n",
    "\n",
    "\n",
    "        resnet = models.resnet50(pretrained=True)\n",
    "        for param in resnet.parameters():\n",
    "            param.requires_grad = False\n",
    "        \n",
    "        for param in resnet.layer4.parameters():\n",
    "            param.requires_grad = True\n",
    "        for param in resnet.layer3.parameters():\n",
    "            param.requires_grad = True\n",
    "\n",
    "        in_features = resnet.fc.in_features\n",
    "        resnet.fc = nn.Sequential(\n",
    "            nn.Linear(in_features,512), \n",
    "            nn.ReLU(),\n",
    "            nn.Dropout(0.2),\n",
    "            nn.Linear(512,classes),\n",
    "        )\n",
    "        self.network = resnet\n",
    "\n",
    "\n",
    "    def forward(self, xb):\n",
    "        if xb.shape[1] == 1:\n",
    "            xb = xb.repeat(1,3,1,1)\n",
    "        return self.network(xb)"
   ]
  },
  {
   "cell_type": "code",
   "execution_count": null,
   "metadata": {
    "colab": {
     "base_uri": "https://localhost:8080/"
    },
    "executionInfo": {
     "elapsed": 232,
     "status": "ok",
     "timestamp": 1747829284110,
     "user": {
      "displayName": "Jianqiao Zheng",
      "userId": "15895953406238580676"
     },
     "user_tz": -570
    },
    "id": "ceJQtRq1VRAk",
    "outputId": "e69d54a0-6cc1-405e-9f6f-6214de7fa7fc"
   },
   "outputs": [
    {
     "data": {
      "text/plain": [
       "expression(\n",
       "  (network): Sequential(\n",
       "    (0): Conv2d(1, 8, kernel_size=(3, 3), stride=(1, 1), padding=(1, 1))\n",
       "    (1): ReLU()\n",
       "    (2): Conv2d(8, 32, kernel_size=(3, 3), stride=(1, 1), padding=(1, 1))\n",
       "    (3): ReLU()\n",
       "    (4): Conv2d(32, 64, kernel_size=(3, 3), stride=(1, 1), padding=(1, 1))\n",
       "    (5): ReLU()\n",
       "    (6): MaxPool2d(kernel_size=2, stride=2, padding=0, dilation=1, ceil_mode=False)\n",
       "    (7): Conv2d(64, 128, kernel_size=(3, 3), stride=(1, 1), padding=(1, 1))\n",
       "    (8): ReLU()\n",
       "    (9): Conv2d(128, 128, kernel_size=(3, 3), stride=(1, 1), padding=(1, 1))\n",
       "    (10): ReLU()\n",
       "    (11): MaxPool2d(kernel_size=2, stride=2, padding=0, dilation=1, ceil_mode=False)\n",
       "    (12): Conv2d(128, 256, kernel_size=(3, 3), stride=(1, 1), padding=(1, 1))\n",
       "    (13): ReLU()\n",
       "    (14): Conv2d(256, 256, kernel_size=(3, 3), stride=(1, 1), padding=(1, 1))\n",
       "    (15): ReLU()\n",
       "    (16): MaxPool2d(kernel_size=2, stride=2, padding=0, dilation=1, ceil_mode=False)\n",
       "    (17): Flatten(start_dim=1, end_dim=-1)\n",
       "    (18): Linear(in_features=9216, out_features=2304, bias=True)\n",
       "    (19): ReLU()\n",
       "    (20): Linear(in_features=2304, out_features=1152, bias=True)\n",
       "    (21): ReLU()\n",
       "    (22): Linear(in_features=1152, out_features=576, bias=True)\n",
       "    (23): ReLU()\n",
       "    (24): Linear(in_features=576, out_features=288, bias=True)\n",
       "    (25): ReLU()\n",
       "    (26): Linear(in_features=288, out_features=144, bias=True)\n",
       "    (27): ReLU()\n",
       "    (28): Linear(in_features=144, out_features=7, bias=True)\n",
       "  )\n",
       ")"
      ]
     },
     "execution_count": 23,
     "metadata": {},
     "output_type": "execute_result"
    }
   ],
   "source": [
    "# Model print\n",
    "model = to_device(expression(classes = 7), device)\n",
    "model"
   ]
  },
  {
   "cell_type": "code",
   "execution_count": null,
   "metadata": {
    "executionInfo": {
     "elapsed": 12,
     "status": "ok",
     "timestamp": 1747829284127,
     "user": {
      "displayName": "Jianqiao Zheng",
      "userId": "15895953406238580676"
     },
     "user_tz": -570
    },
    "id": "8ms49hovVTSI"
   },
   "outputs": [],
   "source": [
    "# Functions for evaluation and training.\n",
    "@torch.no_grad()\n",
    "def evaluate(model, valid_dl):\n",
    "    model.eval()\n",
    "    outputs = [model.validation_step(batch) for batch in valid_dl]\n",
    "    return model.validation_epoch_end(outputs)\n",
    "\n",
    "def fit(epochs, lr, model, train_dl, valid_dl, opt_func=torch.optim.SGD):\n",
    "    history = []\n",
    "    optimizer = opt_func(model.parameters(), lr)\n",
    "    for epoch in range(epochs):\n",
    "        # Training Phase\n",
    "        model.train()\n",
    "        train_losses = []\n",
    "        for batch in train_dl:\n",
    "            loss = model.training_step(batch)\n",
    "            train_losses.append(loss)\n",
    "            loss.backward()\n",
    "            optimizer.step()\n",
    "            optimizer.zero_grad()\n",
    "        # Validation phase\n",
    "        result = evaluate(model, valid_dl)\n",
    "        result['train_loss'] = torch.stack(train_losses).mean().item()\n",
    "        model.epoch_end(epoch, result)\n",
    "        history.append(result)\n",
    "    return history"
   ]
  },
  {
   "cell_type": "code",
   "execution_count": null,
   "metadata": {
    "colab": {
     "base_uri": "https://localhost:8080/"
    },
    "executionInfo": {
     "elapsed": 6883,
     "status": "ok",
     "timestamp": 1747829291011,
     "user": {
      "displayName": "Jianqiao Zheng",
      "userId": "15895953406238580676"
     },
     "user_tz": -570
    },
    "id": "gMhOvBlsd9ym",
    "outputId": "5b90f566-8982-488e-e0b7-4b5be59ce77d"
   },
   "outputs": [
    {
     "data": {
      "text/plain": [
       "{'val_loss': 1.9500926733016968, 'val_acc': 0.015584832057356834}"
      ]
     },
     "execution_count": 25,
     "metadata": {},
     "output_type": "execute_result"
    }
   ],
   "source": [
    "evaluate(model, valid_dl)"
   ]
  },
  {
   "cell_type": "code",
   "execution_count": null,
   "metadata": {
    "executionInfo": {
     "elapsed": 9,
     "status": "ok",
     "timestamp": 1747829291034,
     "user": {
      "displayName": "Jianqiao Zheng",
      "userId": "15895953406238580676"
     },
     "user_tz": -570
    },
    "id": "6cSs_ji4Vbvf"
   },
   "outputs": [],
   "source": [
    "num_epochs = 10\n",
    "opt_func = torch.optim.Adam\n",
    "lr = 0.001"
   ]
  },
  {
   "cell_type": "code",
   "execution_count": null,
   "metadata": {
    "colab": {
     "base_uri": "https://localhost:8080/"
    },
    "executionInfo": {
     "elapsed": 600064,
     "status": "ok",
     "timestamp": 1747829891097,
     "user": {
      "displayName": "Jianqiao Zheng",
      "userId": "15895953406238580676"
     },
     "user_tz": -570
    },
    "id": "If7zRxdjVf80",
    "outputId": "64992935-776b-4392-97bf-b7d76d1e25d6"
   },
   "outputs": [
    {
     "name": "stdout",
     "output_type": "stream",
     "text": [
      "Epoch[0], val_loss: 1.8010, val_acc: 0.2486\n",
      "Epoch[1], val_loss: 1.7656, val_acc: 0.2697\n",
      "Epoch[2], val_loss: 1.6597, val_acc: 0.3404\n",
      "Epoch[3], val_loss: 1.5206, val_acc: 0.3963\n",
      "Epoch[4], val_loss: 1.4257, val_acc: 0.4325\n",
      "Epoch[5], val_loss: 1.3605, val_acc: 0.4687\n",
      "Epoch[6], val_loss: 1.2841, val_acc: 0.4964\n",
      "Epoch[7], val_loss: 1.2475, val_acc: 0.5216\n",
      "Epoch[8], val_loss: 1.2227, val_acc: 0.5291\n",
      "Epoch[9], val_loss: 1.2086, val_acc: 0.5457\n"
     ]
    }
   ],
   "source": [
    "history = fit(num_epochs, lr, model, train_dl, valid_dl, opt_func)"
   ]
  },
  {
   "cell_type": "code",
   "execution_count": null,
   "metadata": {
    "executionInfo": {
     "elapsed": 2,
     "status": "ok",
     "timestamp": 1747829891097,
     "user": {
      "displayName": "Jianqiao Zheng",
      "userId": "15895953406238580676"
     },
     "user_tz": -570
    },
    "id": "Qi-kLqDYVil_"
   },
   "outputs": [],
   "source": [
    "# Plots for accuracy and loss during training period.\n",
    "def plot_accuracies(history):\n",
    "    accuracies = [x['val_acc'] for x in history]\n",
    "    plt.plot(accuracies, '-x')\n",
    "    plt.xlabel('epoch')\n",
    "    plt.ylabel('accuracy')\n",
    "    plt.title('Accuracy vs. No. of epochs');\n",
    "def plot_losses(history):\n",
    "    train_losses = [x.get('train_loss') for x in history]\n",
    "    val_losses = [x['val_loss'] for x in history]\n",
    "    plt.plot(train_losses, '-bx')\n",
    "    plt.plot(val_losses, '-rx')\n",
    "    plt.xlabel('epoch')\n",
    "    plt.ylabel('loss')\n",
    "    plt.legend(['Training', 'Validation'])\n",
    "    plt.title('Loss vs. No. of epochs');"
   ]
  },
  {
   "cell_type": "code",
   "execution_count": null,
   "metadata": {
    "colab": {
     "base_uri": "https://localhost:8080/",
     "height": 472
    },
    "executionInfo": {
     "elapsed": 146,
     "status": "ok",
     "timestamp": 1747829891242,
     "user": {
      "displayName": "Jianqiao Zheng",
      "userId": "15895953406238580676"
     },
     "user_tz": -570
    },
    "id": "oWslwBg5VnQm",
    "outputId": "d7d9e7e3-423e-40c6-d905-e4f7c8c44b92"
   },
   "outputs": [
    {
     "data": {
      "image/png": "[encoded data removed]",
      "text/plain": [
       "<Figure size 640x480 with 1 Axes>"
      ]
     },
     "metadata": {},
     "output_type": "display_data"
    }
   ],
   "source": [
    "plot_accuracies(history)"
   ]
  },
  {
   "cell_type": "code",
   "execution_count": null,
   "metadata": {
    "colab": {
     "base_uri": "https://localhost:8080/",
     "height": 472
    },
    "executionInfo": {
     "elapsed": 162,
     "status": "ok",
     "timestamp": 1747829891404,
     "user": {
      "displayName": "Jianqiao Zheng",
      "userId": "15895953406238580676"
     },
     "user_tz": -570
    },
    "id": "qOHN8Yr0Vo4K",
    "outputId": "455e4866-bad9-4639-f0ec-21d095829c62"
   },
   "outputs": [
    {
     "data": {
      "image/png": "[encoded data removed]",
      "text/plain": [
       "<Figure size 640x480 with 1 Axes>"
      ]
     },
     "metadata": {},
     "output_type": "display_data"
    }
   ],
   "source": [
    "plot_losses(history)"
   ]
  },
  {
   "cell_type": "code",
   "execution_count": null,
   "metadata": {
    "colab": {
     "base_uri": "https://localhost:8080/"
    },
    "executionInfo": {
     "elapsed": 6402,
     "status": "ok",
     "timestamp": 1747829897807,
     "user": {
      "displayName": "Jianqiao Zheng",
      "userId": "15895953406238580676"
     },
     "user_tz": -570
    },
    "id": "a8gl2x4fVsLX",
    "outputId": "2e2e393b-7a87-4b6b-99d1-469a3dcae0b3"
   },
   "outputs": [
    {
     "data": {
      "text/plain": [
       "{'val_loss': 1.1767809391021729, 'val_acc': 0.5495636463165283}"
      ]
     },
     "execution_count": 31,
     "metadata": {},
     "output_type": "execute_result"
    }
   ],
   "source": [
    "# Model evaluation on test data.\n",
    "result = evaluate(model, test_dl)\n",
    "result"
   ]
  },
  {
   "cell_type": "code",
   "execution_count": null,
   "metadata": {
    "executionInfo": {
     "elapsed": 2,
     "status": "ok",
     "timestamp": 1747829897811,
     "user": {
      "displayName": "Jianqiao Zheng",
      "userId": "15895953406238580676"
     },
     "user_tz": -570
    },
    "id": "28zn6GWwVwrQ"
   },
   "outputs": [],
   "source": [
    "# Prediction function to evaluate the model.\n",
    "def predict_image(img, model):\n",
    "    xb = img.unsqueeze(0)\n",
    "    yb = model(xb)\n",
    "    _, preds  = torch.max(yb, dim=1)\n",
    "    return Labels[preds[0].item()]"
   ]
  },
  {
   "cell_type": "code",
   "execution_count": null,
   "metadata": {
    "colab": {
     "base_uri": "https://localhost:8080/",
     "height": 448
    },
    "executionInfo": {
     "elapsed": 93,
     "status": "ok",
     "timestamp": 1747829897905,
     "user": {
      "displayName": "Jianqiao Zheng",
      "userId": "15895953406238580676"
     },
     "user_tz": -570
    },
    "id": "XIFbEoS-V3MP",
    "outputId": "5280765a-ef4e-46a9-fc75-c2f609719805"
   },
   "outputs": [
    {
     "name": "stdout",
     "output_type": "stream",
     "text": [
      "Label: Angry , Predicted: Fear\n"
     ]
    },
    {
     "data": {
      "image/png": "[encoded data removed]",
      "text/plain": [
       "<Figure size 640x480 with 1 Axes>"
      ]
     },
     "metadata": {},
     "output_type": "display_data"
    }
   ],
   "source": [
    "img, label = test_ds[0]\n",
    "plt.imshow(img[0], interpolation='nearest', cmap='gray')\n",
    "img = img.to(device)\n",
    "print('Label:', Labels[label], ', Predicted:', predict_image(img, model))"
   ]
  },
  {
   "cell_type": "code",
   "execution_count": null,
   "metadata": {
    "colab": {
     "base_uri": "https://localhost:8080/",
     "height": 448
    },
    "executionInfo": {
     "elapsed": 108,
     "status": "ok",
     "timestamp": 1747829898021,
     "user": {
      "displayName": "Jianqiao Zheng",
      "userId": "15895953406238580676"
     },
     "user_tz": -570
    },
    "id": "i88tAsWWV2ej",
    "outputId": "10a52759-1f0d-4392-a640-894ae8a53df8"
   },
   "outputs": [
    {
     "name": "stdout",
     "output_type": "stream",
     "text": [
      "Label: Angry , Predicted: Angry\n"
     ]
    },
    {
     "data": {
      "image/png": "[encoded data removed]",
      "text/plain": [
       "<Figure size 640x480 with 1 Axes>"
      ]
     },
     "metadata": {},
     "output_type": "display_data"
    }
   ],
   "source": [
    "img, label = test_ds[110]\n",
    "plt.imshow(img[0], interpolation='nearest', cmap='gray')\n",
    "img = img.to(device)\n",
    "print('Label:', Labels[label], ', Predicted:', predict_image(img, model))"
   ]
  },
  {
   "cell_type": "markdown",
   "metadata": {
    "id": "cDrJajSvgax-"
   },
   "source": [
    "##FLOPs\n",
    "In deep learning, FLOPs (Floating Point Operations) quantify the total number of arithmetic operations—such as additions, multiplications, and divisions—that a model performs during a single forward pass (i.e., when making a prediction). This metric serves as an indicator of a model’s computational complexity. When discussing large-scale models, FLOPs are often expressed in GFLOPs (Giga Floating Point Operations), where 1 GFLOP equals one billion operations. This unit helps in comparing the computational demands of different models."
   ]
  },
  {
   "cell_type": "code",
   "execution_count": null,
   "metadata": {
    "colab": {
     "base_uri": "https://localhost:8080/"
    },
    "executionInfo": {
     "elapsed": 6348,
     "status": "ok",
     "timestamp": 1747829904368,
     "user": {
      "displayName": "Jianqiao Zheng",
      "userId": "15895953406238580676"
     },
     "user_tz": -570
    },
    "id": "6XzHrJOUgag9",
    "outputId": "4871d961-b7d5-4600-9d05-3bd82e939ed2"
   },
   "outputs": [
    {
     "name": "stdout",
     "output_type": "stream",
     "text": [
      "Collecting fvcore\n",
      "  Downloading fvcore-0.1.5.post20221221.tar.gz (50 kB)\n",
      "\u001b[2K     \u001b[90m━━━━━━━━━━━━━━━━━━━━━━━━━━━━━━━━━━━━━━━━\u001b[0m \u001b[32m50.2/50.2 kB\u001b[0m \u001b[31m3.4 MB/s\u001b[0m eta \u001b[36m0:00:00\u001b[0m\n",
      "\u001b[?25h  Preparing metadata (setup.py) ... \u001b[?25l\u001b[?25hdone\n",
      "Requirement already satisfied: numpy in /usr/local/lib/python3.11/dist-packages (from fvcore) (2.0.2)\n",
      "Collecting yacs>=0.1.6 (from fvcore)\n",
      "  Downloading yacs-0.1.8-py3-none-any.whl.metadata (639 bytes)\n",
      "Requirement already satisfied: pyyaml>=5.1 in /usr/local/lib/python3.11/dist-packages (from fvcore) (6.0.2)\n",
      "Requirement already satisfied: tqdm in /usr/local/lib/python3.11/dist-packages (from fvcore) (4.67.1)\n",
      "Requirement already satisfied: termcolor>=1.1 in /usr/local/lib/python3.11/dist-packages (from fvcore) (3.1.0)\n",
      "Requirement already satisfied: Pillow in /usr/local/lib/python3.11/dist-packages (from fvcore) (11.2.1)\n",
      "Requirement already satisfied: tabulate in /usr/local/lib/python3.11/dist-packages (from fvcore) (0.9.0)\n",
      "Collecting iopath>=0.1.7 (from fvcore)\n",
      "  Downloading iopath-0.1.10.tar.gz (42 kB)\n",
      "\u001b[2K     \u001b[90m━━━━━━━━━━━━━━━━━━━━━━━━━━━━━━━━━━━━━━━━\u001b[0m \u001b[32m42.2/42.2 kB\u001b[0m \u001b[31m3.8 MB/s\u001b[0m eta \u001b[36m0:00:00\u001b[0m\n",
      "\u001b[?25h  Preparing metadata (setup.py) ... \u001b[?25l\u001b[?25hdone\n",
      "Requirement already satisfied: typing_extensions in /usr/local/lib/python3.11/dist-packages (from iopath>=0.1.7->fvcore) (4.13.2)\n",
      "Collecting portalocker (from iopath>=0.1.7->fvcore)\n",
      "  Downloading portalocker-3.1.1-py3-none-any.whl.metadata (8.6 kB)\n",
      "Downloading yacs-0.1.8-py3-none-any.whl (14 kB)\n",
      "Downloading portalocker-3.1.1-py3-none-any.whl (19 kB)\n",
      "Building wheels for collected packages: fvcore, iopath\n",
      "  Building wheel for fvcore (setup.py) ... \u001b[?25l\u001b[?25hdone\n",
      "  Created wheel for fvcore: filename=fvcore-0.1.5.post20221221-py3-none-any.whl size=61397 sha256=2d203ebb83197a8063f6a565ead5ba84473df3d738da9ac5b518791f957827c3\n",
      "  Stored in directory: /root/.cache/pip/wheels/65/71/95/3b8fde5c65c6e4a806e0867c1651dcc71a1cb2f3430e8f355f\n",
      "  Building wheel for iopath (setup.py) ... \u001b[?25l\u001b[?25hdone\n",
      "  Created wheel for iopath: filename=iopath-0.1.10-py3-none-any.whl size=31527 sha256=2c418a6cf6f51814b67a17e7c03f2fa19dc31db68cacf47f48aba9c42d79a968\n",
      "  Stored in directory: /root/.cache/pip/wheels/ba/5e/16/6117f8fe7e9c0c161a795e10d94645ebcf301ccbd01f66d8ec\n",
      "Successfully built fvcore iopath\n",
      "Installing collected packages: yacs, portalocker, iopath, fvcore\n",
      "Successfully installed fvcore-0.1.5.post20221221 iopath-0.1.10 portalocker-3.1.1 yacs-0.1.8\n"
     ]
    }
   ],
   "source": [
    "# we use fvcore to calculate the FLOPs\n",
    "!pip install fvcore"
   ]
  },
  {
   "cell_type": "code",
   "execution_count": null,
   "metadata": {
    "colab": {
     "base_uri": "https://localhost:8080/"
    },
    "executionInfo": {
     "elapsed": 560,
     "status": "ok",
     "timestamp": 1747829904929,
     "user": {
      "displayName": "Jianqiao Zheng",
      "userId": "15895953406238580676"
     },
     "user_tz": -570
    },
    "id": "5C3lwJgQgsdt",
    "outputId": "70fc15f9-3bd3-443e-860c-ce5cb3ca0cc2"
   },
   "outputs": [
    {
     "name": "stderr",
     "output_type": "stream",
     "text": [
      "WARNING:fvcore.nn.jit_analysis:Unsupported operator aten::max_pool2d encountered 3 time(s)\n"
     ]
    },
    {
     "name": "stdout",
     "output_type": "stream",
     "text": [
      "FLOPs: 0.32751 GFLOPs\n"
     ]
    }
   ],
   "source": [
    "from fvcore.nn import FlopCountAnalysis\n",
    "input = torch.randn(1, 1, 48, 48) # The input size should be the same as the size that you put into your model\n",
    "#Get the network and its FLOPs\n",
    "num_classes = 7\n",
    "model = expression(num_classes)\n",
    "flops = FlopCountAnalysis(model, input)\n",
    "print(f\"FLOPs: {flops.total()/1e9:.5f} GFLOPs\")"
   ]
  },
  {
   "cell_type": "code",
   "execution_count": null,
   "metadata": {
    "executionInfo": {
     "elapsed": 1,
     "status": "ok",
     "timestamp": 1747829904931,
     "user": {
      "displayName": "Jianqiao Zheng",
      "userId": "15895953406238580676"
     },
     "user_tz": -570
    },
    "id": "dKLfZCnhK70y"
   },
   "outputs": [],
   "source": []
  }
 ],
 "metadata": {
  "accelerator": "GPU",
  "colab": {
   "gpuType": "T4",
   "provenance": []
  },
  "kernelspec": {
   "display_name": ".venv",
   "language": "python",
   "name": "python3"
  },
  "language_info": {
   "codemirror_mode": {
    "name": "ipython",
    "version": 3
   },
   "file_extension": ".py",
   "mimetype": "text/x-python",
   "name": "python",
   "nbconvert_exporter": "python",
   "pygments_lexer": "ipython3",
   "version": "3.11.9"
  }
 },
 "nbformat": 4,
 "nbformat_minor": 0
}
